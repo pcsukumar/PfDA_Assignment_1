{
 "cells": [
  {
   "cell_type": "markdown",
   "id": "46c463c8-ca31-49b5-ad9b-e65612c67052",
   "metadata": {},
   "source": [
    "# PfDA_Project 1"
   ]
  },
  {
   "cell_type": "code",
   "execution_count": 1,
   "id": "c7cc42e2-3fb3-4a53-b2b8-22276617f1cc",
   "metadata": {},
   "outputs": [],
   "source": [
    "import pandas as pd\n",
    "import numpy as np"
   ]
  },
  {
   "cell_type": "code",
   "execution_count": null,
   "id": "6f4ce3b9-e192-44a6-ac2c-1f57b6250dc0",
   "metadata": {},
   "outputs": [],
   "source": []
  }
 ],
 "metadata": {
  "kernelspec": {
   "display_name": "Python 3 (ipykernel)",
   "language": "python",
   "name": "python3"
  },
  "language_info": {
   "codemirror_mode": {
    "name": "ipython",
    "version": 3
   },
   "file_extension": ".py",
   "mimetype": "text/x-python",
   "name": "python",
   "nbconvert_exporter": "python",
   "pygments_lexer": "ipython3",
   "version": "3.9.7"
  }
 },
 "nbformat": 4,
 "nbformat_minor": 5
}
