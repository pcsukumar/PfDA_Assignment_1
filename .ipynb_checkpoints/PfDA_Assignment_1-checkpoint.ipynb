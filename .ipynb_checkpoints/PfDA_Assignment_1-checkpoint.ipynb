{
 "cells": [
  {
   "cell_type": "markdown",
   "id": "8cff9211-e20c-47f7-82fc-e61d65f1132f",
   "metadata": {},
   "source": [
    "# PdFA Project 1"
   ]
  },
  {
   "cell_type": "code",
   "execution_count": null,
   "id": "f5f235e5-a553-4fef-a094-a8d7a1fb9d10",
   "metadata": {},
   "outputs": [],
   "source": []
  }
 ],
 "metadata": {
  "kernelspec": {
   "display_name": "Python 3 (ipykernel)",
   "language": "python",
   "name": "python3"
  },
  "language_info": {
   "codemirror_mode": {
    "name": "ipython",
    "version": 3
   },
   "file_extension": ".py",
   "mimetype": "text/x-python",
   "name": "python",
   "nbconvert_exporter": "python",
   "pygments_lexer": "ipython3",
   "version": "3.9.7"
  }
 },
 "nbformat": 4,
 "nbformat_minor": 5
}
