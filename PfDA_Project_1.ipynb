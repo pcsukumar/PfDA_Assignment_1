{
 "cells": [
  {
   "cell_type": "markdown",
   "id": "46c463c8-ca31-49b5-ad9b-e65612c67052",
   "metadata": {},
   "source": [
    "# PfDA_Project 1"
   ]
  },
  {
   "cell_type": "markdown",
   "id": "f06f2cfd-acc3-47f4-8994-a8eefc50bc37",
   "metadata": {},
   "source": [
    "## Generating a synthetic dataset to test digital 'Goldilocks hypothesis'"
   ]
  },
  {
   "cell_type": "markdown",
   "id": "b8bfd4c4-fa4a-4c41-894c-0f84a704f557",
   "metadata": {},
   "source": [
    "### Introduction"
   ]
  },
  {
   "cell_type": "markdown",
   "id": "eda0ce5f-68c1-42e7-a0c9-b584da2ab421",
   "metadata": {},
   "source": [
    "This project attempts to create a dataset to test the 'digital Goldilocks hypothesis'(1). This hypotheis suggestes that children's moderate level of digital media engagement is beneficial to their psychiatric wellbeing, while lower, or higher levels may be detrimental. The aim of this project is to create a synthetic dataset which contains variables such as children's; gender, age, average daily screen time, and a measure of psychological/emotional well-being."
   ]
  },
  {
   "cell_type": "markdown",
   "id": "b8738765-8023-4c5b-ab10-9de5811917f2",
   "metadata": {},
   "source": [
    "### Review of litrature"
   ]
  },
  {
   "cell_type": "markdown",
   "id": "b2603c61-5530-4276-a551-3ce354e861df",
   "metadata": {},
   "source": [
    "Several studies have been conducted to investigate the relationship between children screen-time and socio-psychological wellbeing (2-4)."
   ]
  },
  {
   "cell_type": "markdown",
   "id": "c88fd154-10e1-4c6b-9edb-87aeb7818d65",
   "metadata": {},
   "source": [
    "### Variables and their distribution"
   ]
  },
  {
   "cell_type": "code",
   "execution_count": 1,
   "id": "c7cc42e2-3fb3-4a53-b2b8-22276617f1cc",
   "metadata": {},
   "outputs": [],
   "source": [
    "import pandas as pd\n",
    "import numpy as np"
   ]
  },
  {
   "cell_type": "code",
   "execution_count": null,
   "id": "0542c3d4-bc76-4774-8395-1b88b69d1091",
   "metadata": {},
   "outputs": [],
   "source": []
  },
  {
   "cell_type": "markdown",
   "id": "93929139-a480-4032-b1c5-1d85cfc00ba8",
   "metadata": {},
   "source": [
    "### References"
   ]
  },
  {
   "cell_type": "markdown",
   "id": "7054236d-ea91-4fff-af63-fde354a6c145",
   "metadata": {},
   "source": [
    "1. Przybylski, A. K., & Weinstein, N. (2017). A large-scale test of the goldilocks hypothesis: quantifying the relations between digital-screen use and the mental well-being of adolescents. Psychological Science, 28(2), 204-215.\n",
    "\n",
    "2. Babic, M., Smith, J., Morgan, P., Eather, N., Plotnikoff, R., & Lubans, D. (2017). Longitudinal associations between changes in screen-time and mental health outcomes in adolescents. Mental Health and Physical Activity, 12, 124–131.\n",
    "\n",
    "3. Booker, C., Kelly, Y., & Sacker, A. (2018). Gender differences in the associations between age trends of social media interaction and well-being among 10-15 year olds in the UK. BMC Public Health, 18, 321.\n",
    "\n",
    "4. Casey, A., Layte, R., Lyons, S., & Silles, M. (2012). Home computer use and academic performance of nine-year-olds. Oxford Review of Education, 38(5), 617–634.\n",
    "\n",
    "5. Bohnert, M., Gracia, P. Emerging Digital Generations? Impacts of Child Digital Use on Mental and Socioemotional Well-Being across Two Cohorts in Ireland, 2007–2018. Child Ind Res 14, 629–659 (2021). https://doi.org/10.1007/s12187-020-09767-z"
   ]
  }
 ],
 "metadata": {
  "kernelspec": {
   "display_name": "Python 3 (ipykernel)",
   "language": "python",
   "name": "python3"
  },
  "language_info": {
   "codemirror_mode": {
    "name": "ipython",
    "version": 3
   },
   "file_extension": ".py",
   "mimetype": "text/x-python",
   "name": "python",
   "nbconvert_exporter": "python",
   "pygments_lexer": "ipython3",
   "version": "3.9.7"
  }
 },
 "nbformat": 4,
 "nbformat_minor": 5
}
