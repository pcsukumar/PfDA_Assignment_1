{
 "cells": [
  {
   "cell_type": "markdown",
   "id": "46c463c8-ca31-49b5-ad9b-e65612c67052",
   "metadata": {},
   "source": [
    "# PfDA_Project 1"
   ]
  },
  {
   "cell_type": "markdown",
   "id": "f06f2cfd-acc3-47f4-8994-a8eefc50bc37",
   "metadata": {},
   "source": [
    "## Generating a synthetic dataset to test digital 'Goldilocks hypothesis' among adolocent population in Ireland"
   ]
  },
  {
   "cell_type": "markdown",
   "id": "b8bfd4c4-fa4a-4c41-894c-0f84a704f557",
   "metadata": {},
   "source": [
    "### Introduction"
   ]
  },
  {
   "cell_type": "markdown",
   "id": "eda0ce5f-68c1-42e7-a0c9-b584da2ab421",
   "metadata": {},
   "source": [
    "This project attempts to create a dataset to test the 'digital Goldilocks hypothesis'(1). This hypotheis suggestes that children's moderate level of digital media engagement is beneficial to their psychiatric wellbeing, while lower, or higher levels may be detrimental. The aim of this project is to create a synthetic dataset which contains variables such as; gender, average daily screen time, and a measure of psychological/emotional well-being of people in the adolocent age group."
   ]
  },
  {
   "cell_type": "markdown",
   "id": "b8738765-8023-4c5b-ab10-9de5811917f2",
   "metadata": {},
   "source": [
    "### Review of litrature"
   ]
  },
  {
   "cell_type": "markdown",
   "id": "b2603c61-5530-4276-a551-3ce354e861df",
   "metadata": {},
   "source": [
    "Several studies have been conducted to investigate the relationship between children screen-time and socio-psychological wellbeing (2-4)."
   ]
  },
  {
   "cell_type": "markdown",
   "id": "c88fd154-10e1-4c6b-9edb-87aeb7818d65",
   "metadata": {},
   "source": [
    "### Variables and their distribution"
   ]
  },
  {
   "cell_type": "code",
   "execution_count": 26,
   "id": "c7cc42e2-3fb3-4a53-b2b8-22276617f1cc",
   "metadata": {},
   "outputs": [],
   "source": [
    "import pandas as pd\n",
    "import numpy as np\n",
    "from random import random\n",
    "import matplotlib.pyplot as plt"
   ]
  },
  {
   "cell_type": "markdown",
   "id": "55eeae83-70be-4ab8-aa2c-33f56f736c91",
   "metadata": {},
   "source": [
    "#### Age"
   ]
  },
  {
   "cell_type": "markdown",
   "id": "1dd3e02d-f206-4dac-b9a9-3d7514c6dcd0",
   "metadata": {},
   "source": [
    "According to the World Health Organization, adolescence is the phase of life between childhood and adulthood, from ages 10 to 19 (5). For this project, children in the secondary school will be selected (13-18 years age group). As per census 2016, there were 371,588 children of secondary school age in Ireland (6). Table below shows the gender and age wise distribution of population in the 13-18 years age group.\n",
    "\n",
    "| Age group   | Male   | Female | Total  |   |\n",
    "|-------------|--------|--------|--------|---|\n",
    "| 13-15 years | 95782  | 92205  | 187987 (51%) |   |\n",
    "| 16-18 years | 94106  | 89495  | 183601 (49%) |   |\n",
    "| Total       | 181700 (49%) | 189888 (51%) | 371588 (100%)|   |"
   ]
  },
  {
   "cell_type": "code",
   "execution_count": 37,
   "id": "18e794f2-2140-4dcd-af8a-745087e175d5",
   "metadata": {},
   "outputs": [
    {
     "data": {
      "image/png": "[encoded data removed]",
      "text/plain": [
       "<Figure size 432x288 with 1 Axes>"
      ]
     },
     "metadata": {
      "needs_background": "light"
     },
     "output_type": "display_data"
    }
   ],
   "source": [
    "age_cat = ['13-15 Years', '16-18 years']\n",
    "age = np.random.choice(age_cat, 100, p=[0.51, 0.49])\n",
    "plt.hist(age)\n",
    "plt.show()"
   ]
  },
  {
   "cell_type": "code",
   "execution_count": 12,
   "id": "470e6ba0-2968-4faf-bd4d-01dc47bc6c77",
   "metadata": {},
   "outputs": [
    {
     "data": {
      "text/plain": [
       "13-15 Years    51\n",
       "16-18 years    49\n",
       "dtype: int64"
      ]
     },
     "execution_count": 12,
     "metadata": {},
     "output_type": "execute_result"
    }
   ],
   "source": [
    "age_s=pd.Series(age)\n",
    "age_s.value_counts()"
   ]
  },
  {
   "cell_type": "markdown",
   "id": "3ff2cc14-e8db-43de-9247-c90322ee9830",
   "metadata": {},
   "source": [
    "#### Gender"
   ]
  },
  {
   "cell_type": "markdown",
   "id": "3e72d91a-07b6-4e53-9565-773537262d50",
   "metadata": {},
   "source": [
    "As per the census 2016, there are 49% males and 51% females in the 13-18 age group. "
   ]
  },
  {
   "cell_type": "code",
   "execution_count": 38,
   "id": "89fe076b-a16c-43d1-b61a-7ff9c982a4d7",
   "metadata": {},
   "outputs": [
    {
     "data": {
      "image/png": "[encoded data removed]",
      "text/plain": [
       "<Figure size 432x288 with 1 Axes>"
      ]
     },
     "metadata": {
      "needs_background": "light"
     },
     "output_type": "display_data"
    }
   ],
   "source": [
    "gender_cat = ['Male', 'Female']\n",
    "gender = np.random.choice(gender_cat, 100, p=[0.49, 0.51])\n",
    "plt.hist(gender)\n",
    "plt.show()"
   ]
  },
  {
   "cell_type": "code",
   "execution_count": 39,
   "id": "4ade403e-8007-4a38-b6e5-61145aba783d",
   "metadata": {},
   "outputs": [
    {
     "data": {
      "text/plain": [
       "Female    53\n",
       "Male      47\n",
       "dtype: int64"
      ]
     },
     "execution_count": 39,
     "metadata": {},
     "output_type": "execute_result"
    }
   ],
   "source": [
    "gender_s=pd.Series(gender) # To check the frequency\n",
    "gender_s.value_counts()"
   ]
  },
  {
   "cell_type": "markdown",
   "id": "998cb200-f39c-4df3-b765-5320a08bff56",
   "metadata": {
    "tags": []
   },
   "source": [
    "#### Average daily screen time"
   ]
  },
  {
   "cell_type": "markdown",
   "id": "aab25ef3-abdf-4954-9a63-6db488df7ee1",
   "metadata": {},
   "source": [
    "Average daily screen time including TV and other digital instruments found by study in Ireland (9)."
   ]
  },
  {
   "cell_type": "code",
   "execution_count": 84,
   "id": "255b1d35-1329-4125-8685-c4a45f4efe97",
   "metadata": {},
   "outputs": [
    {
     "data": {
      "image/png": "[encoded data removed]",
      "text/plain": [
       "<Figure size 432x288 with 1 Axes>"
      ]
     },
     "metadata": {
      "needs_background": "light"
     },
     "output_type": "display_data"
    }
   ],
   "source": [
    "screenTime_cat = ['None', 'Less than an hour', '1 to 3 h', 'More than 3 hours']\n",
    "screenTime = np.random.choice(screenTime_cat, 100, p=[0.12, 0.46, 0.38, 0.04])\n",
    "plt.hist(screenTime)\n",
    "plt.show()"
   ]
  },
  {
   "cell_type": "code",
   "execution_count": 85,
   "id": "eeedd099-d0b1-4481-8ba4-295a122bd7db",
   "metadata": {},
   "outputs": [
    {
     "data": {
      "text/plain": [
       "Less than an hour    49\n",
       "1 to 3 h             38\n",
       "None                 10\n",
       "More than 3 hours     3\n",
       "dtype: int64"
      ]
     },
     "execution_count": 85,
     "metadata": {},
     "output_type": "execute_result"
    }
   ],
   "source": [
    "screenTime_s=pd.Series(screenTime)\n",
    "screenTime_s.value_counts()"
   ]
  },
  {
   "cell_type": "markdown",
   "id": "171c7bd1-6d16-4f26-92f4-dec8d27f8bbf",
   "metadata": {},
   "source": [
    "#### SDQ Score"
   ]
  },
  {
   "cell_type": "markdown",
   "id": "5f2d6f58-a71d-4730-b9e6-44750e234b44",
   "metadata": {},
   "source": [
    "The strengths and difficulties questionnaire (SDQ) is the toold generally used to assess children’s mental health (6). Mental health is generally considered to consist of two parts: negative and positive mental health. Negative mental health includes subclinical negative mental health, such as stress or negative affect, and psychopathology, such as depression or schizophrenia. Positive mental health is a synonym for well-being; it comprises hedonic well-being and eudaimonic well-being (8). \n",
    "\n",
    "The 25 personality attributes in the SDQ are made up of 5 scales of 5 items each. The scales are: Emotional symptoms, Conduct problems, Hyperactivity/inattention, Peer relationship problems, and Prosocial behaviour. For this project, emotional symptoms subscale will only be considered. A study conducted in Ireland (9) has further created a Total Difficulties Score (TDS) by combining subscales 1 through 4 to assess overall psychosocial functioning and adjustment. This score ranges from a minimum score of 0 (indicating the lowest socioemotional problems) and a maximum score of 40 (indicating the highest socioemotional problems). "
   ]
  },
  {
   "cell_type": "code",
   "execution_count": 43,
   "id": "a104618e-71c6-4d44-941a-4d3a9b068ddb",
   "metadata": {},
   "outputs": [
    {
     "data": {
      "image/png": "[encoded data removed]",
      "text/plain": [
       "<Figure size 432x288 with 1 Axes>"
      ]
     },
     "metadata": {
      "needs_background": "light"
     },
     "output_type": "display_data"
    }
   ],
   "source": [
    "rng = np.random.default_rng()\n",
    "sdq_score=rng.integers(low=0, high=41, size=100)\n",
    "plt.hist(sdq_score)\n",
    "plt.show()"
   ]
  },
  {
   "cell_type": "markdown",
   "id": "e25f7937-d790-4e9a-a031-9c9465b25388",
   "metadata": {},
   "source": [
    "#### Income"
   ]
  },
  {
   "cell_type": "markdown",
   "id": "6d630303-9d0e-4116-861f-73c16332c6e7",
   "metadata": {},
   "source": [
    "Ireland Central Statistics Office report 'Geographical Profiles of Income in Ireland 2016' (7), provides the distribution of Irish households in annual household income categories. These categories have been collapsed into four categories and proportion of households in each category is shown below.\n",
    "\n",
    "Low ( up to €20K) - 19.30%\n",
    "\n",
    "Middle (€20k - €60K) - 44.80% \n",
    "\n",
    "Upper middle (€60k-€100k) - 21.80%\n",
    "\n",
    "High (100k above €14.10% \n",
    "\n",
    "Income catergory variable is created randomely same as the proportion of households in each income category."
   ]
  },
  {
   "cell_type": "code",
   "execution_count": 44,
   "id": "3b82c3d0-192c-45b2-995b-e18cbeccbbe6",
   "metadata": {},
   "outputs": [
    {
     "data": {
      "image/png": "[encoded data removed]",
      "text/plain": [
       "<Figure size 432x288 with 1 Axes>"
      ]
     },
     "metadata": {
      "needs_background": "light"
     },
     "output_type": "display_data"
    }
   ],
   "source": [
    "income_cat = ['Low Income', 'Middle Income', 'Upper Middle', 'High Income']\n",
    "income = np.random.choice(income_cat, 100, p=[0.19, 0.45, 0.22, 0.14])\n",
    "plt.hist(income)\n",
    "plt.show()"
   ]
  },
  {
   "cell_type": "code",
   "execution_count": 45,
   "id": "8c6ae1b0-388f-45dc-92c2-8f8e580d91c4",
   "metadata": {},
   "outputs": [
    {
     "data": {
      "text/plain": [
       "Middle Income    36\n",
       "Upper Middle     24\n",
       "Low Income       22\n",
       "High Income      18\n",
       "dtype: int64"
      ]
     },
     "execution_count": 45,
     "metadata": {},
     "output_type": "execute_result"
    }
   ],
   "source": [
    "income_s=pd.Series(income)\n",
    "income_s.value_counts()"
   ]
  },
  {
   "cell_type": "markdown",
   "id": "4b607c64-b6df-40fa-a0b1-76bfea27b814",
   "metadata": {},
   "source": [
    "### Data set"
   ]
  },
  {
   "cell_type": "code",
   "execution_count": 86,
   "id": "85427baf-5f48-470e-bfcc-acd6efa6c585",
   "metadata": {},
   "outputs": [],
   "source": [
    "data = np.array([age, gender, screenTime, sdq_score, income])"
   ]
  },
  {
   "cell_type": "code",
   "execution_count": 87,
   "id": "a0421593-4169-468e-811e-9e70e2cb03a6",
   "metadata": {},
   "outputs": [],
   "source": [
    "dataset = pd.DataFrame({'Age': data[0], 'Gender': data[1], 'Screen_Time': data[2], 'SDQ_Score': data[3], 'Income': data[4]})"
   ]
  },
  {
   "cell_type": "code",
   "execution_count": 88,
   "id": "f725a69e-d9c0-429d-96d6-a54471e8ce0e",
   "metadata": {},
   "outputs": [
    {
     "name": "stdout",
     "output_type": "stream",
     "text": [
      "            Age  Gender        Screen_Time SDQ_Score         Income\n",
      "0   16-18 years    Male  Less than an hour        19  Middle Income\n",
      "1   16-18 years  Female  Less than an hour        10   Upper Middle\n",
      "2   13-15 Years    Male               None        17    High Income\n",
      "3   16-18 years    Male  Less than an hour        18  Middle Income\n",
      "4   13-15 Years  Female  Less than an hour        30     Low Income\n",
      "..          ...     ...                ...       ...            ...\n",
      "95  16-18 years  Female               None         9  Middle Income\n",
      "96  16-18 years    Male  Less than an hour         5    High Income\n",
      "97  16-18 years    Male  Less than an hour         2     Low Income\n",
      "98  16-18 years    Male           1 to 3 h        30  Middle Income\n",
      "99  16-18 years  Female           1 to 3 h        20   Upper Middle\n",
      "\n",
      "[100 rows x 5 columns]\n"
     ]
    }
   ],
   "source": [
    "print(dataset)\n",
    "dataset.to_csv('out.csv')"
   ]
  },
  {
   "cell_type": "markdown",
   "id": "93929139-a480-4032-b1c5-1d85cfc00ba8",
   "metadata": {},
   "source": [
    "### References"
   ]
  },
  {
   "cell_type": "markdown",
   "id": "7054236d-ea91-4fff-af63-fde354a6c145",
   "metadata": {},
   "source": [
    "1. Przybylski, A. K., & Weinstein, N. (2017). A large-scale test of the goldilocks hypothesis: quantifying the relations between digital-screen use and the mental well-being of adolescents. Psychological Science, 28(2), 204-215.\n",
    "\n",
    "2. Babic, M., Smith, J., Morgan, P., Eather, N., Plotnikoff, R., & Lubans, D. (2017). Longitudinal associations between changes in screen-time and mental health outcomes in adolescents. Mental Health and Physical Activity, 12, 124–131.\n",
    "\n",
    "3. Booker, C., Kelly, Y., & Sacker, A. (2018). Gender differences in the associations between age trends of social media interaction and well-being among 10-15 year olds in the UK. BMC Public Health, 18, 321.\n",
    "\n",
    "4. Casey, A., Layte, R., Lyons, S., & Silles, M. (2012). Home computer use and academic performance of nine-year-olds. Oxford Review of Education, 38(5), 617–634.\n",
    "\n",
    "5. WHO. Adolescent health https://www.who.int/health-topics/adolescent-health\n",
    "\n",
    "6. The strengths and difficulties questionnaire (SDQ) https://mentallyhealthyschools.org.uk/resources/the-strengths-and-difficulties-questionnaire-sdq/\n",
    "\n",
    "7. CSO. Census of Population 2016 - Profile 3 - An Age Profile of Ireland https://www.cso.ie/en/releasesandpublications/ep/p-cp3oy/cp3/agr/\n",
    "\n",
    "8. Dienlin, Tobias, and Niklas Johannes. \"The impact of digital technology use on adolescent well-being.\" Dialogues in clinical neuroscience (2022). https://www.tandfonline.com/doi/full/10.31887/DCNS.2020.22.2/tdienlin\n",
    "\n",
    "8. Bohnert, M., Gracia, P. Emerging Digital Generations? Impacts of Child Digital Use on Mental and Socioemotional Well-Being across Two Cohorts in Ireland, 2007–2018. Child Ind Res 14, 629–659 (2021). https://doi.org/10.1007/s12187-020-09767-z\n",
    "\n",
    "9. Central Statistics Office (CSO) Geographical Profiles of Income in Ireland 2016 (Figure 1.2 Household gross income 2016)  https://www.cso.ie/en/releasesandpublications/ep/p-gpii/geographicalprofilesofincomeinireland2016/incomeinireland/"
   ]
  },
  {
   "cell_type": "markdown",
   "id": "693254bd-38cf-4bcf-bc1c-bcdd0b37449e",
   "metadata": {},
   "source": [
    "Other sources\n",
    "\n",
    "https://numpy.org/doc/stable/reference/random/generated/numpy.random.choice.html\n",
    "\n",
    "https://stackoverflow.com/questions/4265988/generate-random-numbers-with-a-given-numerical-distribution\n",
    "\n",
    "https://stackoverflow.com/questions/65311352/convert-numpy-array-into-dataframe"
   ]
  }
 ],
 "metadata": {
  "kernelspec": {
   "display_name": "Python 3 (ipykernel)",
   "language": "python",
   "name": "python3"
  },
  "language_info": {
   "codemirror_mode": {
    "name": "ipython",
    "version": 3
   },
   "file_extension": ".py",
   "mimetype": "text/x-python",
   "name": "python",
   "nbconvert_exporter": "python",
   "pygments_lexer": "ipython3",
   "version": "3.9.7"
  }
 },
 "nbformat": 4,
 "nbformat_minor": 5
}
