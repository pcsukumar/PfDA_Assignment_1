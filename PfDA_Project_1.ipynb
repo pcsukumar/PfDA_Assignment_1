{
 "cells": [
  {
   "cell_type": "markdown",
   "id": "46c463c8-ca31-49b5-ad9b-e65612c67052",
   "metadata": {},
   "source": [
    "# PfDA_Project 1"
   ]
  },
  {
   "cell_type": "markdown",
   "id": "f06f2cfd-acc3-47f4-8994-a8eefc50bc37",
   "metadata": {},
   "source": [
    "## Generating a synthetic dataset to test digital 'Goldilocks hypothesis' among adolocent population in Ireland"
   ]
  },
  {
   "cell_type": "markdown",
   "id": "b8bfd4c4-fa4a-4c41-894c-0f84a704f557",
   "metadata": {},
   "source": [
    "### Introduction"
   ]
  },
  {
   "cell_type": "markdown",
   "id": "eda0ce5f-68c1-42e7-a0c9-b584da2ab421",
   "metadata": {},
   "source": [
    "This project attempts to create a dataset to test the 'digital Goldilocks hypothesis'(1). This hypotheis suggestes that children's moderate level of digital media engagement is beneficial to their psychiatric wellbeing, while lower, or higher levels may be detrimental. The aim of this project is to create a synthetic dataset which contains variables such as; gender, average daily screen time, and a measure of psychological/emotional well-being of people in the adolocent age group."
   ]
  },
  {
   "cell_type": "markdown",
   "id": "b8738765-8023-4c5b-ab10-9de5811917f2",
   "metadata": {},
   "source": [
    "### Review of litrature"
   ]
  },
  {
   "cell_type": "markdown",
   "id": "b2603c61-5530-4276-a551-3ce354e861df",
   "metadata": {},
   "source": [
    "Several studies have been conducted to investigate the relationship between children screen-time and socio-psychological wellbeing (2-4)."
   ]
  },
  {
   "cell_type": "markdown",
   "id": "c88fd154-10e1-4c6b-9edb-87aeb7818d65",
   "metadata": {},
   "source": [
    "### Variables and their distribution"
   ]
  },
  {
   "cell_type": "markdown",
   "id": "55eeae83-70be-4ab8-aa2c-33f56f736c91",
   "metadata": {},
   "source": [
    "#### Age"
   ]
  },
  {
   "cell_type": "markdown",
   "id": "1dd3e02d-f206-4dac-b9a9-3d7514c6dcd0",
   "metadata": {},
   "source": [
    "According to the World Health Organization, adolescence is the phase of life between childhood and adulthood, from ages 10 to 19 (5). For this project, children in the secondary school will be selected (13-18 years age group). As per census 2016, there were 371,588 children of secondary school age in Ireland (6). Table below shows the gender and age wise distribution of population in the 13-18 years age group.\n",
    "\n",
    "| Age group   | Male   | Female | Total  |   |\n",
    "|-------------|--------|--------|--------|---|\n",
    "| 13-15 years | 95782  | 92205  | 187987 (51%) |   |\n",
    "| 16-18 years | 94106  | 89495  | 183601 (49%) |   |\n",
    "| Total       | 181700 (49%) | 189888 (51%) | 371588 (100%)|   |"
   ]
  },
  {
   "cell_type": "markdown",
   "id": "3ff2cc14-e8db-43de-9247-c90322ee9830",
   "metadata": {},
   "source": [
    "#### Gender"
   ]
  },
  {
   "cell_type": "code",
   "execution_count": null,
   "id": "94ee6819-01ce-4fdc-8dc4-e2f4d44355a4",
   "metadata": {},
   "outputs": [],
   "source": []
  },
  {
   "cell_type": "markdown",
   "id": "998cb200-f39c-4df3-b765-5320a08bff56",
   "metadata": {
    "tags": []
   },
   "source": [
    "#### Average daily screen time"
   ]
  },
  {
   "cell_type": "code",
   "execution_count": null,
   "id": "255b1d35-1329-4125-8685-c4a45f4efe97",
   "metadata": {},
   "outputs": [],
   "source": []
  },
  {
   "cell_type": "markdown",
   "id": "171c7bd1-6d16-4f26-92f4-dec8d27f8bbf",
   "metadata": {},
   "source": [
    "#### SDQ Score"
   ]
  },
  {
   "cell_type": "markdown",
   "id": "5f2d6f58-a71d-4730-b9e6-44750e234b44",
   "metadata": {},
   "source": [
    "Well-being is a subcategory of mental health. Mental health is generally considered to consist of two parts: negative and positive mental health.15 Negative mental health includes subclinical negative mental health, such as stress or negative affect, and psychopathology, such as depression or schizophrenia.16 Positive mental health is a synonym for well-being; it comprises hedonic well-being and eudaimonic well-being.17 https://www.tandfonline.com/doi/full/10.31887/DCNS.2020.22.2/tdienlin"
   ]
  },
  {
   "cell_type": "markdown",
   "id": "e25f7937-d790-4e9a-a031-9c9465b25388",
   "metadata": {},
   "source": [
    "#### Income"
   ]
  },
  {
   "cell_type": "markdown",
   "id": "6d630303-9d0e-4116-861f-73c16332c6e7",
   "metadata": {},
   "source": [
    "Ireland Central Statistics Office report 'Geographical Profiles of Income in Ireland 2016' (6), provides the distribution of Irish households in annual household income categories. These categories have been collapsed into four categories and proportion of households in each category is shown below.\n",
    "\n",
    "Low ( up to €20K) - 19.30%\n",
    "\n",
    "Middle (€20k - €60K) - 44.80% \n",
    "\n",
    "Upper middle (€60k-€100k) - 21.80%\n",
    "\n",
    "High (100k above €14.10% \n",
    "\n",
    "Income catergory variable is created randomely same as the proportion of households in each income category."
   ]
  },
  {
   "cell_type": "code",
   "execution_count": 1,
   "id": "c7cc42e2-3fb3-4a53-b2b8-22276617f1cc",
   "metadata": {},
   "outputs": [],
   "source": [
    "import pandas as pd\n",
    "import numpy as np\n",
    "from random import random"
   ]
  },
  {
   "cell_type": "code",
   "execution_count": 2,
   "id": "3b82c3d0-192c-45b2-995b-e18cbeccbbe6",
   "metadata": {},
   "outputs": [],
   "source": [
    "income_cat = ['Low Income', 'Middle Income', 'Upper Middle', 'High Income']\n",
    "income = np.random.choice(income_cat, 100, p=[0.19, 0.45, 0.22, 0.14])"
   ]
  },
  {
   "cell_type": "code",
   "execution_count": 3,
   "id": "8c6ae1b0-388f-45dc-92c2-8f8e580d91c4",
   "metadata": {},
   "outputs": [
    {
     "data": {
      "text/plain": [
       "Middle Income    44\n",
       "Upper Middle     26\n",
       "Low Income       18\n",
       "High Income      12\n",
       "dtype: int64"
      ]
     },
     "execution_count": 3,
     "metadata": {},
     "output_type": "execute_result"
    }
   ],
   "source": [
    "income_s=pd.Series(income)\n",
    "income_s.value_counts()"
   ]
  },
  {
   "cell_type": "markdown",
   "id": "93929139-a480-4032-b1c5-1d85cfc00ba8",
   "metadata": {},
   "source": [
    "### References"
   ]
  },
  {
   "cell_type": "markdown",
   "id": "7054236d-ea91-4fff-af63-fde354a6c145",
   "metadata": {},
   "source": [
    "1. Przybylski, A. K., & Weinstein, N. (2017). A large-scale test of the goldilocks hypothesis: quantifying the relations between digital-screen use and the mental well-being of adolescents. Psychological Science, 28(2), 204-215.\n",
    "\n",
    "2. Babic, M., Smith, J., Morgan, P., Eather, N., Plotnikoff, R., & Lubans, D. (2017). Longitudinal associations between changes in screen-time and mental health outcomes in adolescents. Mental Health and Physical Activity, 12, 124–131.\n",
    "\n",
    "3. Booker, C., Kelly, Y., & Sacker, A. (2018). Gender differences in the associations between age trends of social media interaction and well-being among 10-15 year olds in the UK. BMC Public Health, 18, 321.\n",
    "\n",
    "4. Casey, A., Layte, R., Lyons, S., & Silles, M. (2012). Home computer use and academic performance of nine-year-olds. Oxford Review of Education, 38(5), 617–634.\n",
    "\n",
    "5. WHO. Adolescent health https://www.who.int/health-topics/adolescent-health\n",
    "\n",
    "6. CSO. Census of Population 2016 - Profile 3 - An Age Profile of Ireland https://www.cso.ie/en/releasesandpublications/ep/p-cp3oy/cp3/agr/\n",
    "\n",
    "5. Bohnert, M., Gracia, P. Emerging Digital Generations? Impacts of Child Digital Use on Mental and Socioemotional Well-Being across Two Cohorts in Ireland, 2007–2018. Child Ind Res 14, 629–659 (2021). https://doi.org/10.1007/s12187-020-09767-z\n",
    "\n",
    "6. Central Statistics Office (CSO) Geographical Profiles of Income in Ireland 2016 (Figure 1.2 Household gross income 2016)  https://www.cso.ie/en/releasesandpublications/ep/p-gpii/geographicalprofilesofincomeinireland2016/incomeinireland/"
   ]
  },
  {
   "cell_type": "markdown",
   "id": "693254bd-38cf-4bcf-bc1c-bcdd0b37449e",
   "metadata": {},
   "source": [
    "https://numpy.org/doc/stable/reference/random/generated/numpy.random.choice.html\n",
    "\n",
    "https://stackoverflow.com/questions/4265988/generate-random-numbers-with-a-given-numerical-distribution"
   ]
  }
 ],
 "metadata": {
  "kernelspec": {
   "display_name": "Python 3 (ipykernel)",
   "language": "python",
   "name": "python3"
  },
  "language_info": {
   "codemirror_mode": {
    "name": "ipython",
    "version": 3
   },
   "file_extension": ".py",
   "mimetype": "text/x-python",
   "name": "python",
   "nbconvert_exporter": "python",
   "pygments_lexer": "ipython3",
   "version": "3.9.7"
  }
 },
 "nbformat": 4,
 "nbformat_minor": 5
}
